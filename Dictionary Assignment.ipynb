{
 "cells": [
  {
   "cell_type": "markdown",
   "metadata": {},
   "source": [
    "###  Dictionary"
   ]
  },
  {
   "cell_type": "markdown",
   "metadata": {},
   "source": [
    "Create Dictionary for following information as \"person1\":\n",
    "   - Name = Srikanth\n",
    "   - Gender= Male\n",
    "   - Occupation = Data Scientist\n",
    "   - Location  = Nizampet, Hyderabad"
   ]
  },
  {
   "cell_type": "code",
   "execution_count": 13,
   "metadata": {},
   "outputs": [
    {
     "data": {
      "text/plain": [
       "{'Name': 'Srikanth',\n",
       " 'Gender': 'Male',\n",
       " 'Occupation': 'Data Scientist',\n",
       " 'Location': 'Nizampet,Hyderabad'}"
      ]
     },
     "execution_count": 13,
     "metadata": {},
     "output_type": "execute_result"
    }
   ],
   "source": [
    "# CODE HERE\n",
    "person1={'Name': 'Srikanth','Gender': 'Male','Occupation': 'Data Scientist','Location': 'Nizampet,Hyderabad'}\n",
    "person1"
   ]
  },
  {
   "cell_type": "code",
   "execution_count": 14,
   "metadata": {},
   "outputs": [
    {
     "data": {
      "text/plain": [
       "{'Name': 'Srikanth',\n",
       " 'Gender': 'Male',\n",
       " 'Occupation': 'Data Scientist',\n",
       " 'Location': 'Nizampet,Hyderabad'}"
      ]
     },
     "execution_count": 14,
     "metadata": {},
     "output_type": "execute_result"
    }
   ],
   "source": [
    "person1"
   ]
  },
  {
   "cell_type": "markdown",
   "metadata": {},
   "source": [
    "> print keys in person1 as a list"
   ]
  },
  {
   "cell_type": "code",
   "execution_count": 12,
   "metadata": {},
   "outputs": [
    {
     "name": "stdout",
     "output_type": "stream",
     "text": [
      "dict_keys(['Name', 'Gender', 'Occupation', 'Location'])\n"
     ]
    }
   ],
   "source": [
    "# CODE HERE\n",
    "print(person1.keys())"
   ]
  },
  {
   "cell_type": "code",
   "execution_count": 3,
   "metadata": {},
   "outputs": [
    {
     "data": {
      "text/plain": [
       "['Name', 'Gender', 'Occupation', 'Location']"
      ]
     },
     "execution_count": 3,
     "metadata": {},
     "output_type": "execute_result"
    }
   ],
   "source": [
    "#  CODE HERE"
   ]
  },
  {
   "cell_type": "markdown",
   "metadata": {},
   "source": [
    "> Srikanth age is 27. Assign his age in person1 as key \"Age\""
   ]
  },
  {
   "cell_type": "code",
   "execution_count": 11,
   "metadata": {},
   "outputs": [
    {
     "ename": "NameError",
     "evalue": "name 'person1' is not defined",
     "output_type": "error",
     "traceback": [
      "\u001b[1;31m---------------------------------------------------------------------------\u001b[0m",
      "\u001b[1;31mNameError\u001b[0m                                 Traceback (most recent call last)",
      "\u001b[1;32m~\\AppData\\Local\\Temp/ipykernel_7768/980645393.py\u001b[0m in \u001b[0;36m<module>\u001b[1;34m\u001b[0m\n\u001b[0;32m      1\u001b[0m \u001b[1;31m# CODE HERE\u001b[0m\u001b[1;33m\u001b[0m\u001b[1;33m\u001b[0m\u001b[0m\n\u001b[1;32m----> 2\u001b[1;33m \u001b[0mperson1\u001b[0m\u001b[1;33m[\u001b[0m\u001b[1;34m'Age'\u001b[0m\u001b[1;33m]\u001b[0m\u001b[1;33m=\u001b[0m\u001b[1;36m27\u001b[0m\u001b[1;33m\u001b[0m\u001b[1;33m\u001b[0m\u001b[0m\n\u001b[0m\u001b[0;32m      3\u001b[0m \u001b[0mperson1\u001b[0m\u001b[1;33m\u001b[0m\u001b[1;33m\u001b[0m\u001b[0m\n",
      "\u001b[1;31mNameError\u001b[0m: name 'person1' is not defined"
     ]
    }
   ],
   "source": [
    "# CODE HERE\n",
    "person1['Age']=27\n",
    "person1"
   ]
  },
  {
   "cell_type": "code",
   "execution_count": 4,
   "metadata": {},
   "outputs": [],
   "source": []
  },
  {
   "cell_type": "code",
   "execution_count": 10,
   "metadata": {},
   "outputs": [
    {
     "ename": "NameError",
     "evalue": "name 'person1' is not defined",
     "output_type": "error",
     "traceback": [
      "\u001b[1;31m---------------------------------------------------------------------------\u001b[0m",
      "\u001b[1;31mNameError\u001b[0m                                 Traceback (most recent call last)",
      "\u001b[1;32m~\\AppData\\Local\\Temp/ipykernel_7768/3055982324.py\u001b[0m in \u001b[0;36m<module>\u001b[1;34m\u001b[0m\n\u001b[1;32m----> 1\u001b[1;33m \u001b[0mperson1\u001b[0m\u001b[1;33m\u001b[0m\u001b[1;33m\u001b[0m\u001b[0m\n\u001b[0m",
      "\u001b[1;31mNameError\u001b[0m: name 'person1' is not defined"
     ]
    }
   ],
   "source": [
    "person1"
   ]
  },
  {
   "cell_type": "markdown",
   "metadata": {},
   "source": [
    "> Remove Location in person1"
   ]
  },
  {
   "cell_type": "code",
   "execution_count": 17,
   "metadata": {},
   "outputs": [
    {
     "data": {
      "text/plain": [
       "{'Name': 'Srikanth',\n",
       " 'Gender': 'Male',\n",
       " 'Occupation': 'Data Scientist',\n",
       " 'Age': 27}"
      ]
     },
     "execution_count": 17,
     "metadata": {},
     "output_type": "execute_result"
    }
   ],
   "source": [
    "# CODE HERE\n",
    "person1.pop('Location')\n",
    "person1"
   ]
  },
  {
   "cell_type": "code",
   "execution_count": 6,
   "metadata": {},
   "outputs": [
    {
     "data": {
      "text/plain": [
       "{'Age': 27,\n",
       " 'Gender': 'Male',\n",
       " 'Name': 'Srikanth',\n",
       " 'Occupation': 'Data Scientist'}"
      ]
     },
     "execution_count": 6,
     "metadata": {},
     "output_type": "execute_result"
    }
   ],
   "source": []
  },
  {
   "cell_type": "markdown",
   "metadata": {},
   "source": [
    "> Create dictionary of person2 with\n",
    "- Name  = Raghu Ram\n",
    "- Gender = Male\n",
    "- Age  = 25\n",
    "- Occupation = Data Scienctist"
   ]
  },
  {
   "cell_type": "code",
   "execution_count": 5,
   "metadata": {},
   "outputs": [
    {
     "data": {
      "text/plain": [
       "{'Age': 25,\n",
       " 'Gender': 'Male',\n",
       " 'Name': 'Raghu Ram',\n",
       " 'Occupation': 'Data Scientist'}"
      ]
     },
     "execution_count": 5,
     "metadata": {},
     "output_type": "execute_result"
    }
   ],
   "source": [
    "# CODE HERE\n",
    "person2={'Age': 25,'Gender': 'Male','Name': 'Raghu Ram','Occupation': 'Data Scientist'}\n",
    "person2"
   ]
  },
  {
   "cell_type": "code",
   "execution_count": 7,
   "metadata": {},
   "outputs": [],
   "source": []
  },
  {
   "cell_type": "code",
   "execution_count": 6,
   "metadata": {},
   "outputs": [
    {
     "data": {
      "text/plain": [
       "{'Age': 25,\n",
       " 'Gender': 'Male',\n",
       " 'Name': 'Raghu Ram',\n",
       " 'Occupation': 'Data Scientist'}"
      ]
     },
     "execution_count": 6,
     "metadata": {},
     "output_type": "execute_result"
    }
   ],
   "source": [
    "person2"
   ]
  },
  {
   "cell_type": "markdown",
   "metadata": {},
   "source": [
    "> Append values on Person1 and Person2"
   ]
  },
  {
   "cell_type": "code",
   "execution_count": 7,
   "metadata": {},
   "outputs": [
    {
     "data": {
      "text/plain": [
       "['__class__',\n",
       " '__class_getitem__',\n",
       " '__contains__',\n",
       " '__delattr__',\n",
       " '__delitem__',\n",
       " '__dir__',\n",
       " '__doc__',\n",
       " '__eq__',\n",
       " '__format__',\n",
       " '__ge__',\n",
       " '__getattribute__',\n",
       " '__getitem__',\n",
       " '__gt__',\n",
       " '__hash__',\n",
       " '__init__',\n",
       " '__init_subclass__',\n",
       " '__ior__',\n",
       " '__iter__',\n",
       " '__le__',\n",
       " '__len__',\n",
       " '__lt__',\n",
       " '__ne__',\n",
       " '__new__',\n",
       " '__or__',\n",
       " '__reduce__',\n",
       " '__reduce_ex__',\n",
       " '__repr__',\n",
       " '__reversed__',\n",
       " '__ror__',\n",
       " '__setattr__',\n",
       " '__setitem__',\n",
       " '__sizeof__',\n",
       " '__str__',\n",
       " '__subclasshook__',\n",
       " 'clear',\n",
       " 'copy',\n",
       " 'fromkeys',\n",
       " 'get',\n",
       " 'items',\n",
       " 'keys',\n",
       " 'pop',\n",
       " 'popitem',\n",
       " 'setdefault',\n",
       " 'update',\n",
       " 'values']"
      ]
     },
     "execution_count": 7,
     "metadata": {},
     "output_type": "execute_result"
    }
   ],
   "source": [
    "dir(person2)"
   ]
  },
  {
   "cell_type": "code",
   "execution_count": 9,
   "metadata": {},
   "outputs": [
    {
     "name": "stdout",
     "output_type": "stream",
     "text": [
      "==================== person1 ====================\n",
      "{'Name': 'Srikanth', 'Gender': 'Male', 'Occupation': 'Data Scientist', 'Age': 27}\n",
      "==================== person2 ====================\n",
      "{'Name': 'Raghu Ram', 'Gender': 'Male', 'Age': 25, 'Occupation': 'Data Scientist'}\n"
     ]
    }
   ],
   "source": [
    "print('='*20,'person1','='*20)\n",
    "print(person1)\n",
    "print('='*20,'person2','='*20)\n",
    "print(person2)"
   ]
  },
  {
   "cell_type": "code",
   "execution_count": 1,
   "metadata": {},
   "outputs": [],
   "source": [
    "# CODE HERE to append\n"
   ]
  },
  {
   "cell_type": "markdown",
   "metadata": {},
   "source": [
    "# create a dictionary\n",
    "#### remove the elements from that dictionary using different methods\n",
    "{1: 1, 2: 4, 3: 9, 4: 16, 5: 25,6:36,7:49}"
   ]
  },
  {
   "cell_type": "code",
   "execution_count": 20,
   "metadata": {},
   "outputs": [
    {
     "data": {
      "text/plain": [
       "{1: 1, 2: 4, 3: 9, 4: 16, 5: 25, 6: 36, 7: 49}"
      ]
     },
     "execution_count": 20,
     "metadata": {},
     "output_type": "execute_result"
    }
   ],
   "source": [
    "# CODE HERE\n",
    "dic = {1: 1, 2: 4, 3: 9, 4: 16, 5: 25,6:36,7:49}\n",
    "dic"
   ]
  },
  {
   "cell_type": "code",
   "execution_count": 22,
   "metadata": {},
   "outputs": [
    {
     "data": {
      "text/plain": [
       "{2: 4, 3: 9, 4: 16, 5: 25, 6: 36, 7: 49}"
      ]
     },
     "execution_count": 22,
     "metadata": {},
     "output_type": "execute_result"
    }
   ],
   "source": [
    "dic.pop(1)\n",
    "dic"
   ]
  },
  {
   "cell_type": "code",
   "execution_count": 25,
   "metadata": {},
   "outputs": [
    {
     "data": {
      "text/plain": [
       "{2: 4, 3: 9, 4: 16, 5: 25, 6: 36}"
      ]
     },
     "execution_count": 25,
     "metadata": {},
     "output_type": "execute_result"
    }
   ],
   "source": [
    "dic.popitem()\n",
    "dic"
   ]
  },
  {
   "cell_type": "markdown",
   "metadata": {},
   "source": [
    "{0: 0, 1: 1, 3: 9, 5: 25, 7: 49, 9: 81}\n",
    "### print the values from the above dictionary in descending order"
   ]
  },
  {
   "cell_type": "code",
   "execution_count": 57,
   "metadata": {},
   "outputs": [],
   "source": [
    "dic1= {3: 9, 1: 1, 0: 0, 5: 25, 7: 49, 9: 81}"
   ]
  },
  {
   "cell_type": "code",
   "execution_count": 58,
   "metadata": {},
   "outputs": [
    {
     "data": {
      "text/plain": [
       "{3: 9, 1: 1, 0: 0, 5: 25, 7: 49, 9: 81}"
      ]
     },
     "execution_count": 58,
     "metadata": {},
     "output_type": "execute_result"
    }
   ],
   "source": [
    "dic1"
   ]
  },
  {
   "cell_type": "code",
   "execution_count": 59,
   "metadata": {},
   "outputs": [
    {
     "data": {
      "text/plain": [
       "[(0, 0), (1, 1), (3, 9), (5, 25), (7, 49), (9, 81)]"
      ]
     },
     "execution_count": 59,
     "metadata": {},
     "output_type": "execute_result"
    }
   ],
   "source": [
    "sorted(dic1.items(), key = lambda kv:(kv[0], kv[1]))"
   ]
  },
  {
   "cell_type": "code",
   "execution_count": 60,
   "metadata": {},
   "outputs": [
    {
     "data": {
      "text/plain": [
       "[(9, 81), (7, 49), (5, 25), (3, 9), (1, 1), (0, 0)]"
      ]
     },
     "execution_count": 60,
     "metadata": {},
     "output_type": "execute_result"
    }
   ],
   "source": [
    "sorted(dic1.items(), key = lambda kv:(kv[1], kv[0]),reverse=True)"
   ]
  },
  {
   "cell_type": "markdown",
   "metadata": {},
   "source": [
    "database = {'ram':1234,'raghu':5678,'kanav':1357}\n",
    "## Tasks :-\n",
    "### 1. if the username and password matches print hello username\n",
    "### 2. if the username and password doesnot match, ask, you want me to add into the database\n",
    "### 3. show the updated database list\n"
   ]
  },
  {
   "cell_type": "code",
   "execution_count": 6,
   "metadata": {},
   "outputs": [
    {
     "name": "stdout",
     "output_type": "stream",
     "text": [
      "Username:hareg\n",
      "Password:7982\n"
     ]
    }
   ],
   "source": [
    "database = {'ram':1234,'raghu':5678,'kanav':1357}\n",
    "u = str(input(\"Username:\"))\n",
    "v = int(input(\"Password:\"))\n",
    "for i in database:\n",
    "    if u==i and v==database[i]:\n",
    "        print(\"Hello \",u)"
   ]
  },
  {
   "cell_type": "code",
   "execution_count": 1,
   "metadata": {},
   "outputs": [
    {
     "name": "stdout",
     "output_type": "stream",
     "text": [
      "Username:reham \n",
      "Password:9876\n",
      "you want me to add into the database\n"
     ]
    }
   ],
   "source": [
    "database = {'ram':1234,'raghu':5678,'kanav':1357}\n",
    "u = str(input(\"Username:\"))\n",
    "v = int(input(\"Password:\"))\n",
    "for i in database:\n",
    "    if u==i and v==database[i]:\n",
    "        print(\"Hello \",u)\n",
    "else:\n",
    "    print(\"you want me to add into the database\")\n",
    "    database[str(u)]=v\n",
    "        "
   ]
  },
  {
   "cell_type": "code",
   "execution_count": 2,
   "metadata": {},
   "outputs": [
    {
     "name": "stdout",
     "output_type": "stream",
     "text": [
      "{'ram': 1234, 'raghu': 5678, 'kanav': 1357, 'reham ': 9876}\n"
     ]
    }
   ],
   "source": [
    "print(database)"
   ]
  },
  {
   "cell_type": "code",
   "execution_count": null,
   "metadata": {},
   "outputs": [],
   "source": [
    "# CODE HERE"
   ]
  },
  {
   "cell_type": "markdown",
   "metadata": {},
   "source": [
    "### merge the below 3 dictionaries\n",
    "dict1 = { 'a': 1, 'b': 2 }\n",
    "dict2 = { 'b': 3, 'c': 4 }\n",
    "dict3 = { 'c': 5, 'd': 6 }"
   ]
  },
  {
   "cell_type": "code",
   "execution_count": 18,
   "metadata": {},
   "outputs": [
    {
     "name": "stdout",
     "output_type": "stream",
     "text": [
      "{'a': 1, 'b': 3, 'c': 4}\n",
      "Output= {'a': 1, 'b': 3, 'c': 5, 'd': 6}\n"
     ]
    }
   ],
   "source": [
    "# CODE HERE\n",
    "dict1 = { 'a': 1, 'b': 2 }\n",
    "dict2 = { 'b': 3, 'c': 4 }\n",
    "dict3 = { 'c': 5, 'd': 6 }\n",
    "d=dict1.copy()\n",
    "d.update(dict2)\n",
    "print(d)\n",
    "d.update(dict3)\n",
    "print(\"Output=\",d)"
   ]
  },
  {
   "cell_type": "code",
   "execution_count": 20,
   "metadata": {},
   "outputs": [],
   "source": [
    "\n",
    "dict1 = { 'a': 1, 'b': 2 }\n",
    "dict2 = { 'b': 3, 'c': 4 }\n",
    "dict3 = { 'c': 5, 'd': 6 }\n"
   ]
  },
  {
   "cell_type": "markdown",
   "metadata": {},
   "source": [
    "Output=\n",
    "{'a':1,'b':3,'c':5,'d':6}"
   ]
  },
  {
   "cell_type": "markdown",
   "metadata": {},
   "source": [
    "# [Innomatics Research Labs](https:/innomatics.in/)\n",
    "[www.innomatics.in](https:/innomatics.in/)"
   ]
  },
  {
   "cell_type": "code",
   "execution_count": null,
   "metadata": {},
   "outputs": [],
   "source": []
  }
 ],
 "metadata": {
  "kernelspec": {
   "display_name": "Python 3 (ipykernel)",
   "language": "python",
   "name": "python3"
  },
  "language_info": {
   "codemirror_mode": {
    "name": "ipython",
    "version": 3
   },
   "file_extension": ".py",
   "mimetype": "text/x-python",
   "name": "python",
   "nbconvert_exporter": "python",
   "pygments_lexer": "ipython3",
   "version": "3.9.7"
  }
 },
 "nbformat": 4,
 "nbformat_minor": 2
}
